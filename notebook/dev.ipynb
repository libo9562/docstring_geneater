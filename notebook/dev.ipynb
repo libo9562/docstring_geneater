{
 "cells": [
  {
   "cell_type": "code",
   "execution_count": 24,
   "metadata": {},
   "outputs": [],
   "source": [
    "import sys\n",
    "sys.path.append(\"..\")"
   ]
  },
  {
   "cell_type": "code",
   "execution_count": 25,
   "metadata": {},
   "outputs": [],
   "source": [
    "from src.chain import get_docstring_chain"
   ]
  },
  {
   "cell_type": "code",
   "execution_count": 26,
   "metadata": {},
   "outputs": [],
   "source": [
    "import ast\n",
    "import os\n",
    "from pathlib import Path\n",
    "from langchain_ollama.llms import OllamaLLM\n",
    "\n",
    "llm = OllamaLLM(model=\"llama3.1\")\n",
    "docstring_chain = get_docstring_chain(llm)\n",
    "\n",
    "def get_functions_without_docstrings_or_type_hints(filepath):\n",
    "    with open(filepath, \"r\", encoding=\"utf-8\") as file:\n",
    "        tree = ast.parse(file.read(), filename=filepath)\n",
    "\n",
    "    missing_info = []\n",
    "\n",
    "    for node in ast.walk(tree):\n",
    "        if isinstance(node, ast.FunctionDef):\n",
    "            # Check if docstring is missing\n",
    "            has_docstring = ast.get_docstring(node) is not None\n",
    "\n",
    "            # Check if any parameter or return type hint is missing\n",
    "            missing_type_hints = any(arg.annotation is None for arg in node.args.args) or node.returns is None\n",
    "\n",
    "            if not has_docstring or missing_type_hints:\n",
    "                # Get the function signature\n",
    "                signature = f\"def {node.name}({', '.join(arg.arg for arg in node.args.args)}):\"\n",
    "                missing_info.append((node, signature))\n",
    "\n",
    "    return missing_info\n",
    "\n",
    "\n",
    "# Function to generate and write back docstrings and type hints\n",
    "def add_missing_docstrings_and_type_hints(filepath):\n",
    "    missing_items = get_functions_without_docstrings_or_type_hints(filepath)\n",
    "    print(missing_items)\n",
    "    # if not missing_items:\n",
    "    #     print(f\"No missing docstrings or type hints found in {filepath}.\")\n",
    "    #     return\n",
    "\n",
    "    # with open(filepath, \"r\", encoding=\"utf-8\") as file:\n",
    "    #     lines = file.readlines()\n",
    "\n",
    "    # for node, signature in sorted(missing_items, key=lambda x: x[0].lineno, reverse=True):\n",
    "    #     # Generate both docstring and type hints in one prompt\n",
    "    #     result = docstring_chain.invoke({\"function_signature\": signature})\n",
    "    #     function_block = result.split(\"\\n\")\n",
    "\n",
    "    #     # Get the original function body lines\n",
    "    #     start, end = node.lineno - 1, node.end_lineno\n",
    "    #     function_body = lines[start + 1 : end]  # Skip the line with the signature\n",
    "\n",
    "    #     # Determine the original indentation\n",
    "    #     indentation = lines[start].find(\"def\") * \" \"  # Get indentation level of the function\n",
    "\n",
    "    #     # Add the indentation to the function block\n",
    "    #     indented_function_block = [indentation + line for line in function_block]\n",
    "\n",
    "    #     # Combine generated function header with original body\n",
    "    #     complete_function = indented_function_block + function_body\n",
    "\n",
    "    #     # Replace the original function definition and body with the updated one\n",
    "    #     lines[start:end] = [line + \"\\n\" for line in complete_function]\n",
    "\n",
    "    # # Write the modified code back to the file in one go\n",
    "    # with open(filepath, \"w\", encoding=\"utf-8\") as file:\n",
    "    #     file.writelines(lines)\n",
    "\n",
    "\n",
    "# Function to scan a directory and process all .py files\n",
    "def scan_directory_and_process(folder_path):\n",
    "    for file in Path(\"../target\").glob(\"**/*.py\"):\n",
    "        print(f\"Processing {file}...\")\n",
    "        add_missing_docstrings_and_type_hints(file)\n",
    "\n",
    "\n",
    "# if __name__ == \"__main__\":\n",
    "#     parser = argparse.ArgumentParser()\n",
    "#     parser.add_argument(\"--dir\", default=\"target\")\n",
    "#     args = parser.parse_args()\n",
    "#     scan_directory_and_process(args.dir)\n"
   ]
  },
  {
   "cell_type": "code",
   "execution_count": 27,
   "metadata": {},
   "outputs": [
    {
     "name": "stdout",
     "output_type": "stream",
     "text": [
      "Processing ../target/__init__.py...\n",
      "[]\n",
      "Processing ../target/example.py...\n",
      "[(<ast.FunctionDef object at 0x120bf7810>, 'def calculate_area1(radius, pi):'), (<ast.FunctionDef object at 0x120bf4290>, 'def calculate_area2(radius, pi):'), (<ast.FunctionDef object at 0x120bf6590>, 'def calculate_area3(radius, pi):'), (<ast.FunctionDef object at 0x120bf4150>, 'def calculate_area4(radius, pi):')]\n",
      "Processing ../target/targetcopy/__init__.py...\n",
      "[]\n",
      "Processing ../target/targetcopy/example_nest.py...\n",
      "[(<ast.FunctionDef object at 0x120bf5e90>, 'def calculate_area1(radius, pi):'), (<ast.FunctionDef object at 0x120bf4190>, 'def calculate_area2(radius, pi):'), (<ast.FunctionDef object at 0x120bf6b10>, 'def calculate_area3(radius, pi):'), (<ast.FunctionDef object at 0x120bf63d0>, 'def calculate_area4(radius, pi):')]\n"
     ]
    }
   ],
   "source": [
    "scan_directory_and_process(\"../target\")"
   ]
  },
  {
   "cell_type": "code",
   "execution_count": 28,
   "metadata": {},
   "outputs": [
    {
     "ename": "SyntaxError",
     "evalue": "invalid syntax (1544382072.py, line 1)",
     "output_type": "error",
     "traceback": [
      "\u001b[0;36m  Cell \u001b[0;32mIn[28], line 1\u001b[0;36m\u001b[0m\n\u001b[0;31m    def get_functions_without_docstrings_or_type_hints(\"../target\")\u001b[0m\n\u001b[0m                                                       ^\u001b[0m\n\u001b[0;31mSyntaxError\u001b[0m\u001b[0;31m:\u001b[0m invalid syntax\n"
     ]
    }
   ],
   "source": [
    "def get_functions_without_docstrings_or_type_hints(\"../target\")\n",
    "    with open(filepath, \"r\", encoding=\"utf-8\") as file:\n",
    "        tree = ast.parse(file.read(), filename=filepath)\n",
    "\n",
    "    missing_info = []\n",
    "\n",
    "    for node in ast.walk(tree):\n",
    "        if isinstance(node, ast.FunctionDef):\n",
    "            # Check if docstring is missing\n",
    "            has_docstring = ast.get_docstring(node) is not None\n",
    "\n",
    "            # Check if any parameter or return type hint is missing\n",
    "            missing_type_hints = any(arg.annotation is None for arg in node.args.args) or node.returns is None\n",
    "\n",
    "            if not has_docstring or missing_type_hints:\n",
    "                # Get the function signature\n",
    "                signature = f\"def {node.name}({', '.join(arg.arg for arg in node.args.args)}):\"\n",
    "                missing_info.append((node, signature))\n",
    "\n",
    "    return missing_info"
   ]
  },
  {
   "cell_type": "code",
   "execution_count": null,
   "metadata": {},
   "outputs": [],
   "source": []
  },
  {
   "cell_type": "code",
   "execution_count": 29,
   "metadata": {},
   "outputs": [],
   "source": [
    "xx = list(Path(\"../target\").glob(\"**/*.py\"))"
   ]
  },
  {
   "cell_type": "code",
   "execution_count": null,
   "metadata": {},
   "outputs": [],
   "source": []
  },
  {
   "cell_type": "code",
   "execution_count": 39,
   "metadata": {},
   "outputs": [
    {
     "name": "stdout",
     "output_type": "stream",
     "text": [
      "Calculate the area of a circle given its radius and the mathematical constant pi.\n",
      "\n",
      "Args:\n",
      "    radius (float): The radius of the circle.\n",
      "    pi (float): The mathematical constant pi.\n",
      "\n",
      "Returns:\n",
      "    float: The calculated area of the circle.\n",
      "Calculates the area of a circle using its radius and a given approximation of PI.\n",
      "\n",
      "Args:\n",
      "    radius (float): The radius of the circle.\n",
      "    pi (float, optional): An approximation of PI (Defaults to 3.14159).\n",
      "Calculates the area of a circle given its radius.\n",
      "\n",
      "Args:\n",
      "    radius (float): The radius of the circle.\n",
      "    pi (float, optional): The value of pi to use in calculations. Defaults to 3.14159.\n",
      "\n",
      "Returns:\n",
      "    float: The calculated area of the circle.\n",
      "Calculate the area of a circle.\n",
      "\n",
      "Returns:\n",
      "    float: The calculated area of the circle using the formula A = πr².\n",
      "Calculates the area of a circle using the formula A = πr².\n",
      "\n",
      "Args:\n",
      "    radius (float): The radius of the circle.\n",
      "    pi (float): The value of pi. Defaults to 3.14 if not provided.\n",
      "\n",
      "Returns:\n",
      "    float: The calculated area of the circle.\n"
     ]
    }
   ],
   "source": [
    "missing_info = []    \n",
    "for node in ast.walk(tree):\n",
    "    if isinstance(node, ast.FunctionDef):\n",
    "        # Check if docstring is missing\n",
    "        has_docstring = ast.get_docstring(node)\n",
    "        print(has_docstring)\n",
    "        has_docstring = has_docstring is not None\n",
    "\n",
    "        # Check if any parameter or return type hint is missing\n",
    "        missing_type_hints = any(arg.annotation is None for arg in node.args.args) or node.returns is None\n",
    "\n",
    "        if not has_docstring or missing_type_hints:\n",
    "            # Get the function signature\n",
    "            signature = f\"def {node.name}({', '.join(arg.arg for arg in node.args.args)}):\"\n",
    "            missing_info.append((node, signature))"
   ]
  },
  {
   "cell_type": "code",
   "execution_count": 40,
   "metadata": {},
   "outputs": [
    {
     "ename": "TypeError",
     "evalue": "'Load' can't have docstrings",
     "output_type": "error",
     "traceback": [
      "\u001b[0;31m---------------------------------------------------------------------------\u001b[0m",
      "\u001b[0;31mTypeError\u001b[0m                                 Traceback (most recent call last)",
      "Cell \u001b[0;32mIn[40], line 1\u001b[0m\n\u001b[0;32m----> 1\u001b[0m \u001b[43mast\u001b[49m\u001b[38;5;241;43m.\u001b[39;49m\u001b[43mget_docstring\u001b[49m\u001b[43m(\u001b[49m\u001b[43mnode\u001b[49m\u001b[43m)\u001b[49m\n",
      "File \u001b[0;32m~/miniconda3/envs/docstring/lib/python3.12/ast.py:293\u001b[0m, in \u001b[0;36mget_docstring\u001b[0;34m(node, clean)\u001b[0m\n\u001b[1;32m    284\u001b[0m \u001b[38;5;250m\u001b[39m\u001b[38;5;124;03m\"\"\"\u001b[39;00m\n\u001b[1;32m    285\u001b[0m \u001b[38;5;124;03mReturn the docstring for the given node or None if no docstring can\u001b[39;00m\n\u001b[1;32m    286\u001b[0m \u001b[38;5;124;03mbe found.  If the node provided does not have docstrings a TypeError\u001b[39;00m\n\u001b[0;32m   (...)\u001b[0m\n\u001b[1;32m    290\u001b[0m \u001b[38;5;124;03mthat can be uniformly removed from the second line onwards is removed.\u001b[39;00m\n\u001b[1;32m    291\u001b[0m \u001b[38;5;124;03m\"\"\"\u001b[39;00m\n\u001b[1;32m    292\u001b[0m \u001b[38;5;28;01mif\u001b[39;00m \u001b[38;5;129;01mnot\u001b[39;00m \u001b[38;5;28misinstance\u001b[39m(node, (AsyncFunctionDef, FunctionDef, ClassDef, Module)):\n\u001b[0;32m--> 293\u001b[0m     \u001b[38;5;28;01mraise\u001b[39;00m \u001b[38;5;167;01mTypeError\u001b[39;00m(\u001b[38;5;124m\"\u001b[39m\u001b[38;5;132;01m%r\u001b[39;00m\u001b[38;5;124m can\u001b[39m\u001b[38;5;124m'\u001b[39m\u001b[38;5;124mt have docstrings\u001b[39m\u001b[38;5;124m\"\u001b[39m \u001b[38;5;241m%\u001b[39m node\u001b[38;5;241m.\u001b[39m\u001b[38;5;18m__class__\u001b[39m\u001b[38;5;241m.\u001b[39m\u001b[38;5;18m__name__\u001b[39m)\n\u001b[1;32m    294\u001b[0m \u001b[38;5;28;01mif\u001b[39;00m \u001b[38;5;129;01mnot\u001b[39;00m(node\u001b[38;5;241m.\u001b[39mbody \u001b[38;5;129;01mand\u001b[39;00m \u001b[38;5;28misinstance\u001b[39m(node\u001b[38;5;241m.\u001b[39mbody[\u001b[38;5;241m0\u001b[39m], Expr)):\n\u001b[1;32m    295\u001b[0m     \u001b[38;5;28;01mreturn\u001b[39;00m \u001b[38;5;28;01mNone\u001b[39;00m\n",
      "\u001b[0;31mTypeError\u001b[0m: 'Load' can't have docstrings"
     ]
    }
   ],
   "source": [
    "ast.get_docstring(node)"
   ]
  },
  {
   "cell_type": "code",
   "execution_count": 52,
   "metadata": {},
   "outputs": [],
   "source": [
    "with open(Path('../target/example.py'), \"r\", encoding=\"utf-8\") as file:\n",
    "    tree = ast.parse(file.read(), filename='../target/example.py')\n",
    "for node in ast.walk(tree):\n",
    "    if isinstance(node, ast.FunctionDef):\n",
    "        break"
   ]
  },
  {
   "cell_type": "code",
   "execution_count": 53,
   "metadata": {},
   "outputs": [
    {
     "data": {
      "text/plain": [
       "'Calculate the area of a circle given its radius and the mathematical constant pi.\\n\\nArgs:\\n    radius (float): The radius of the circle.\\n    pi (float): The mathematical constant pi.\\n\\nReturns:\\n    float: The calculated area of the circle.'"
      ]
     },
     "execution_count": 53,
     "metadata": {},
     "output_type": "execute_result"
    }
   ],
   "source": [
    "ast.get_docstring(node)"
   ]
  },
  {
   "cell_type": "code",
   "execution_count": 57,
   "metadata": {},
   "outputs": [],
   "source": [
    "msg = _"
   ]
  },
  {
   "cell_type": "code",
   "execution_count": 58,
   "metadata": {},
   "outputs": [
    {
     "name": "stdout",
     "output_type": "stream",
     "text": [
      "Calculate the area of a circle given its radius and the mathematical constant pi.\n",
      "\n",
      "Args:\n",
      "    radius (float): The radius of the circle.\n",
      "    pi (float): The mathematical constant pi.\n",
      "\n",
      "Returns:\n",
      "    float: The calculated area of the circle.\n"
     ]
    }
   ],
   "source": [
    "print(msg)"
   ]
  },
  {
   "cell_type": "code",
   "execution_count": null,
   "metadata": {},
   "outputs": [],
   "source": []
  }
 ],
 "metadata": {
  "kernelspec": {
   "display_name": "docstring",
   "language": "python",
   "name": "python3"
  },
  "language_info": {
   "codemirror_mode": {
    "name": "ipython",
    "version": 3
   },
   "file_extension": ".py",
   "mimetype": "text/x-python",
   "name": "python",
   "nbconvert_exporter": "python",
   "pygments_lexer": "ipython3",
   "version": "3.12.7"
  }
 },
 "nbformat": 4,
 "nbformat_minor": 2
}
